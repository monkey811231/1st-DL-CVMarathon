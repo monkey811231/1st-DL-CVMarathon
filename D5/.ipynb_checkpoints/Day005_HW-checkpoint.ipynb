{
 "cells": [
  {
   "cell_type": "markdown",
   "metadata": {},
   "source": [
    "# API 資料串接 - 以 Dcard API 實作範例\n",
    "\n",
    "* 了解 Dcard API 使用方式與回傳內容\n",
    "* 撰寫程式存取 API 且解析 JSON 格式資料\n"
   ]
  },
  {
   "cell_type": "markdown",
   "metadata": {},
   "source": [
    "## 作業目標\n",
    "\n",
    "* 請利用 API: https://www.dcard.tw/_api/forums/pet/posts?popular=true 回答下列問題：\n",
    "\n",
    "1. 這個 API 一次會回傳幾筆資料？每一筆資料包含哪些欄位？\n",
    "2. 取出每一筆資料的「標題」、「貼文時間」、「留言人數」、「按讚人數」\n",
    "3. 計算熱門/非熱門文章的「平均留言人數」與「平均按讚人數」"
   ]
  },
  {
   "cell_type": "code",
   "execution_count": 12,
   "metadata": {},
   "outputs": [
    {
     "name": "stdout",
     "output_type": "stream",
     "text": [
      "共有30筆資料\n",
      "id\n",
      "title\n",
      "excerpt\n",
      "anonymousSchool\n",
      "anonymousDepartment\n",
      "pinned\n",
      "forumId\n",
      "replyId\n",
      "createdAt\n",
      "updatedAt\n",
      "commentCount\n",
      "likeCount\n",
      "withNickname\n",
      "tags\n",
      "topics\n",
      "meta\n",
      "forumName\n",
      "forumAlias\n",
      "nsfw\n",
      "gender\n",
      "school\n",
      "replyTitle\n",
      "mediaMeta\n",
      "reactions\n",
      "hidden\n",
      "customStyle\n",
      "isSuspiciousAccount\n",
      "isModerator\n",
      "layout\n",
      "withImages\n",
      "withVideos\n",
      "media\n",
      "reportReasonText\n",
      "excerptComments\n",
      "postAvatar\n",
      "verifiedBadge\n"
     ]
    }
   ],
   "source": [
    "# 1. 這個 API 一次會回傳幾筆資料？每一筆資料包含哪些欄位？\n",
    "import requests \n",
    "import json\n",
    "\n",
    "r = requests.get('https://www.dcard.tw/_api/forums/pet/posts?popular=true')\n",
    "json_content = json.loads(r.text)\n",
    "\n",
    "count = 0\n",
    "for i in json_content :\n",
    "    count += 1\n",
    "\n",
    "print(f'共有{count}筆資料')\n",
    "\n",
    "for j in json_content[0]:\n",
    "    print(j)"
   ]
  },
  {
   "cell_type": "code",
   "execution_count": 22,
   "metadata": {},
   "outputs": [
    {
     "name": "stdout",
     "output_type": "stream",
     "text": [
      "1. 標題:這是⋯放生？？ , 貼文時間:2020-10-23T13:29:36.079Z , 留言人數:72 , 按讚人數:634\n",
      "2. 標題:（更 男朋友拍的照片？ , 貼文時間:2020-10-23T15:37:57.147Z , 留言人數:28 , 按讚人數:370\n",
      "3. 標題:你們信任寵物店嗎？ , 貼文時間:2020-10-23T17:01:51.159Z , 留言人數:34 , 按讚人數:290\n",
      "4. 標題:我家的狗會排隊領食 , 貼文時間:2020-10-23T03:24:12.652Z , 留言人數:19 , 按讚人數:225\n",
      "5. 標題:地表最強小三是你！！ , 貼文時間:2020-10-23T14:54:41.786Z , 留言人數:5 , 按讚人數:206\n",
      "6. 標題:最近養了一隻貓頭鷹 , 貼文時間:2020-10-23T10:39:39.352Z , 留言人數:3 , 按讚人數:198\n",
      "7. 標題:貓貓露營小旅行（圖多） , 貼文時間:2020-10-23T03:58:05.080Z , 留言人數:7 , 按讚人數:120\n",
      "8. 標題:今天來點......喵包子嗎🤤 , 貼文時間:2020-10-23T04:24:04.423Z , 留言人數:8 , 按讚人數:117\n",
      "9. 標題:正確喝水姿勢？？ , 貼文時間:2020-10-23T14:58:38.710Z , 留言人數:4 , 按讚人數:72\n",
      "10. 標題:養了一個恰查某 , 貼文時間:2020-10-24T01:20:52.875Z , 留言人數:4 , 按讚人數:68\n",
      "11. 標題:龍貓洗澡紀錄🛁 , 貼文時間:2020-10-23T22:13:38.985Z , 留言人數:4 , 按讚人數:55\n",
      "12. 標題:貓咪和電競椅 , 貼文時間:2020-10-24T06:50:41.193Z , 留言人數:2 , 按讚人數:22\n",
      "13. 標題:分享貓咪睡覺姿勢 , 貼文時間:2020-10-23T12:55:01.373Z , 留言人數:5 , 按讚人數:15\n",
      "14. 標題:奶貓 , 貼文時間:2020-10-23T13:17:59.340Z , 留言人數:5 , 按讚人數:12\n",
      "15. 標題:#問卷 寵物對你來說是家人還是物品？ , 貼文時間:2020-10-23T08:56:57.891Z , 留言人數:6 , 按讚人數:12\n",
      "16. 標題:#布丁鼠#這才叫靠臉吃飯🥰 , 貼文時間:2020-10-24T02:36:37.737Z , 留言人數:4 , 按讚人數:11\n",
      "17. 標題:#龍貓 我要來傳教了 , 貼文時間:2020-10-23T08:20:50.235Z , 留言人數:2 , 按讚人數:11\n",
      "18. 標題:寶貝們四歲了🥳🥺 , 貼文時間:2020-10-23T03:06:54.359Z , 留言人數:3 , 按讚人數:11\n",
      "19. 標題:#鳥 胡錦鳥分享 , 貼文時間:2020-10-24T07:13:29.648Z , 留言人數:4 , 按讚人數:10\n",
      "20. 標題:幫大臉貓咪打扮😍 , 貼文時間:2020-10-23T19:25:04.364Z , 留言人數:1 , 按讚人數:10\n",
      "21. 標題:領養代替購買？ , 貼文時間:2020-10-24T03:50:12.457Z , 留言人數:10 , 按讚人數:8\n",
      "22. 標題:最喜歡的貓咪拍照姿勢 , 貼文時間:2020-10-23T17:53:46.653Z , 留言人數:1 , 按讚人數:8\n",
      "23. 標題:誰說不能把毛小孩當小孩再養的 , 貼文時間:2020-10-23T11:48:11.791Z , 留言人數:5 , 按讚人數:8\n",
      "24. 標題:來認兔友XD , 貼文時間:2020-10-23T03:01:02.807Z , 留言人數:3 , 按讚人數:8\n",
      "25. 標題:突然看到又美又粉的腿和屁股🤫🤫 , 貼文時間:2020-10-24T00:07:43.252Z , 留言人數:1 , 按讚人數:7\n",
      "26. 標題:期待已久的兔兔終於來了！ , 貼文時間:2020-10-23T09:26:40.791Z , 留言人數:3 , 按讚人數:7\n",
      "27. 標題:#討論 短腿貓會收手手嗎？ , 貼文時間:2020-10-23T03:29:19.871Z , 留言人數:4 , 按讚人數:7\n",
      "28. 標題:好想養貓咪🐱 , 貼文時間:2020-10-23T03:06:28.777Z , 留言人數:10 , 按讚人數:7\n",
      "29. 標題:又是我，長得像玉兔包的兔子 , 貼文時間:2020-10-23T02:21:10.674Z , 留言人數:0 , 按讚人數:6\n",
      "30. 標題:我有你們都沒有ㄉ可愛貓貓 , 貼文時間:2020-10-23T10:33:48.786Z , 留言人數:0 , 按讚人數:5\n"
     ]
    }
   ],
   "source": [
    "# 2. 取出每一筆資料的「標題」、「貼文時間」、「留言人數」、「按讚人數」\n",
    "num = 1 \n",
    "for j in json_content :\n",
    "    title = j['title']\n",
    "    createdAt = j['createdAt']\n",
    "    commentCount = j['commentCount']\n",
    "    likeCount = j['likeCount']\n",
    "    \n",
    "    print(f'{num}. 標題:{title} , 貼文時間:{createdAt} , 留言人數:{commentCount} , 按讚人數:{likeCount}')\n",
    "    num += 1"
   ]
  },
  {
   "cell_type": "code",
   "execution_count": 26,
   "metadata": {},
   "outputs": [
    {
     "name": "stdout",
     "output_type": "stream",
     "text": [
      "平均留言數:8.57 , 平均按讚數:84.67\n"
     ]
    }
   ],
   "source": [
    "# 3. 計算熱門/非熱門文章的「平均留言人數」與「平均按讚人數」\n",
    "\n",
    "count = 0\n",
    "comment = 0\n",
    "like = 0\n",
    "for j in json_content :\n",
    "    commentCount = int(j['commentCount'])\n",
    "    likeCount = int(j['likeCount'])\n",
    "    comment += commentCount\n",
    "    like += likeCount\n",
    "    count += 1\n",
    "count_ave = comment/count\n",
    "like_ave = like/count\n",
    "print('平均留言數:{:.2f} , 平均按讚數:{:.2f}'.format(count_ave,like_ave))\n",
    "\n",
    "    "
   ]
  },
  {
   "cell_type": "code",
   "execution_count": null,
   "metadata": {},
   "outputs": [],
   "source": []
  },
  {
   "cell_type": "code",
   "execution_count": null,
   "metadata": {},
   "outputs": [],
   "source": []
  }
 ],
 "metadata": {
  "kernelspec": {
   "display_name": "Python 3",
   "language": "python",
   "name": "python3"
  },
  "language_info": {
   "codemirror_mode": {
    "name": "ipython",
    "version": 3
   },
   "file_extension": ".py",
   "mimetype": "text/x-python",
   "name": "python",
   "nbconvert_exporter": "python",
   "pygments_lexer": "ipython3",
   "version": "3.7.6"
  }
 },
 "nbformat": 4,
 "nbformat_minor": 2
}
