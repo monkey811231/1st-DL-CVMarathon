{
 "cells": [
  {
   "cell_type": "code",
   "execution_count": 8,
   "metadata": {
    "scrolled": true
   },
   "outputs": [],
   "source": [
    "import os\n",
    "from urllib.request import urlretrieve\n",
    "import requests"
   ]
  },
  {
   "cell_type": "code",
   "execution_count": 1,
   "metadata": {},
   "outputs": [
    {
     "name": "stdout",
     "output_type": "stream",
     "text": [
      "Error\n"
     ]
    }
   ],
   "source": [
    "# 下載檔案到 Data 資料夾，存成檔名 Homework.txt\n",
    "\n",
    "\n",
    "try :\n",
    "    os.makedirs('./Data',exist_ok=True)    \n",
    "    \n",
    "    '''\n",
    "    urlretrieve(url, filename=None, reporthook=None, data=None):\n",
    "    url：下载链接地址\n",
    "    filename：指定保存本地路径\n",
    "    reporthook：回调函数，可以利用其来显示当前的下载进度。\n",
    "    data：返回一个包含两个元素的(filename, headers) 元组，filename 表示保存到本地的路径，header表示服务器的响应头\n",
    "    '''\n",
    "    \n",
    "    urlretrieve('https://www.w3.org/TR/PNG/iso_8859-1.txt',filename = './Data/Homework.txt')\n",
    "    \n",
    "    \n",
    "except:\n",
    "    print('Error')"
   ]
  },
  {
   "cell_type": "code",
   "execution_count": 22,
   "metadata": {},
   "outputs": [
    {
     "name": "stdout",
     "output_type": "stream",
     "text": [
      "['Homework.txt']\n",
      "'Homework.txt'in Folder\n"
     ]
    }
   ],
   "source": [
    "# 檢查 Data 資料夾是否有 Homework.txt 檔名之檔案\n",
    "\n",
    "open_file = os.listdir('./Data')\n",
    "\n",
    "print(open_file)\n",
    "\n",
    "if 'Homework.txt' in open_file:\n",
    "        print(\"'Homework.txt'in Folder\")\n",
    "else:\n",
    "    print(\"'Homework.txt'not in Folder\")"
   ]
  },
  {
   "cell_type": "code",
   "execution_count": 27,
   "metadata": {},
   "outputs": [
    {
     "name": "stdout",
     "output_type": "stream",
     "text": [
      "Hello World\n"
     ]
    }
   ],
   "source": [
    "# 將「Hello World」字串覆寫到 Homework.txt 檔案\n",
    "\n",
    "with open('./Data/Homework.txt','w',encoding='utf-8') as H:\n",
    "    H.write('Hello World')\n",
    "with open('./Data/Homework.txt','r',encoding='utf-8') as H:\n",
    "    print(H.read())\n",
    "    "
   ]
  },
  {
   "cell_type": "code",
   "execution_count": 28,
   "metadata": {},
   "outputs": [
    {
     "name": "stdout",
     "output_type": "stream",
     "text": [
      "字數相符\n"
     ]
    }
   ],
   "source": [
    "# 檢查 Homework.txt 檔案字數是否符合 Hello World 字數\n",
    "word = 'Hello World'\n",
    "\n",
    "with open('./Data/Homework.txt','r',encoding='utf-8') as H:\n",
    "    H_len = H.read()\n",
    "if len(word) == len(H_len):\n",
    "    print('字數相符')\n",
    "else:\n",
    "    print('字數不符')\n",
    "                "
   ]
  }
 ],
 "metadata": {
  "kernelspec": {
   "display_name": "Python 3",
   "language": "python",
   "name": "python3"
  },
  "language_info": {
   "codemirror_mode": {
    "name": "ipython",
    "version": 3
   },
   "file_extension": ".py",
   "mimetype": "text/x-python",
   "name": "python",
   "nbconvert_exporter": "python",
   "pygments_lexer": "ipython3",
   "version": "3.7.6"
  }
 },
 "nbformat": 4,
 "nbformat_minor": 4
}
